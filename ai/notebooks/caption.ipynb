{
 "cells": [
  {
   "cell_type": "code",
   "execution_count": 48,
   "metadata": {
    "executionInfo": {
     "elapsed": 11,
     "status": "ok",
     "timestamp": 1761870876771,
     "user": {
      "displayName": "이찬희",
      "userId": "01166881154315678948"
     },
     "user_tz": -540
    },
    "id": "B2gNweUciEwz"
   },
   "outputs": [],
   "source": [
    "import os\n",
    "from PIL import Image\n",
    "import google.generativeai as genai\n",
    "from google.colab import drive"
   ]
  },
  {
   "cell_type": "code",
   "execution_count": 49,
   "metadata": {
    "colab": {
     "base_uri": "https://localhost:8080/"
    },
    "executionInfo": {
     "elapsed": 3183,
     "status": "ok",
     "timestamp": 1761870880570,
     "user": {
      "displayName": "이찬희",
      "userId": "01166881154315678948"
     },
     "user_tz": -540
    },
    "id": "YwzkXUWclZiL",
    "outputId": "2cabae66-8e61-4f16-f05b-6e698a1595b1"
   },
   "outputs": [
    {
     "name": "stdout",
     "output_type": "stream",
     "text": [
      "Drive already mounted at /content/drive; to attempt to forcibly remount, call drive.mount(\"/content/drive\", force_remount=True).\n"
     ]
    }
   ],
   "source": [
    "drive.mount('/content/drive')"
   ]
  },
  {
   "cell_type": "code",
   "execution_count": null,
   "metadata": {
    "executionInfo": {
     "elapsed": 4,
     "status": "ok",
     "timestamp": 1761870917759,
     "user": {
      "displayName": "이찬희",
      "userId": "01166881154315678948"
     },
     "user_tz": -540
    },
    "id": "SgT83cO_iiQr"
   },
   "outputs": [],
   "source": [
    "# API 키 설정\n",
    "os.environ[\"GOOGLE_API_KEY\"] = \"사용자 API키 넣어주세요\"\n",
    "genai.configure(api_key=os.environ[\"GOOGLE_API_KEY\"])"
   ]
  },
  {
   "cell_type": "code",
   "execution_count": 52,
   "metadata": {
    "colab": {
     "base_uri": "https://localhost:8080/"
    },
    "executionInfo": {
     "elapsed": 569,
     "status": "ok",
     "timestamp": 1761870920106,
     "user": {
      "displayName": "이찬희",
      "userId": "01166881154315678948"
     },
     "user_tz": -540
    },
    "id": "IiUllX9XlBqm",
    "outputId": "95a24eaf-f225-423d-a5c0-10a35fc18607"
   },
   "outputs": [
    {
     "name": "stdout",
     "output_type": "stream",
     "text": [
      "파일 찾음: /content/drive/MyDrive/Colab Notebooks/실전냠/img/img1.png\n"
     ]
    }
   ],
   "source": [
    "image_path = \"/content/drive/MyDrive/Colab Notebooks/실전냠/img/img1.png\"\n",
    "\n",
    "if not os.path.isfile(image_path):\n",
    "    raise FileNotFoundError(f\"파일이 존재하지 않습니다: {image_path}\")\n",
    "else:\n",
    "    print(f\"파일 찾음: {image_path}\")\n",
    "\n",
    "image = Image.open(image_path).convert(\"RGB\")\n",
    "image.show()"
   ]
  },
  {
   "cell_type": "code",
   "execution_count": 102,
   "metadata": {
    "colab": {
     "base_uri": "https://localhost:8080/",
     "height": 109
    },
    "executionInfo": {
     "elapsed": 9416,
     "status": "ok",
     "timestamp": 1761874162851,
     "user": {
      "displayName": "이찬희",
      "userId": "01166881154315678948"
     },
     "user_tz": -540
    },
    "id": "eMEJNNWFliiP",
    "outputId": "51110ab9-1db8-4a83-f4ed-1e5cd4666ff0"
   },
   "outputs": [
    {
     "name": "stdout",
     "output_type": "stream",
     "text": [
      "MBTI : ISTJ\n",
      "\n",
      "인스타 인플루언서 스타일 게시글:\n",
      "\n",
      "밀린 업무 처리 중. 하나하나 정확하게 마무리해야 마음이 편해요.\n"
     ]
    }
   ],
   "source": [
    "# === MBTI 선택 ===\n",
    "personality = \"ISTJ\"  # 👈 원하는 MBTI로 변경 가능 (예: ENFP, INTP 등)\n",
    "\n",
    "# === 인스타 인플루언서 게시물 프롬프트 ===\n",
    "prompt = f\"\"\"\n",
    "You are a Korean lifestyle influencer with the MBTI type \"{personality}\".\n",
    "Imagine that **you are the person in the uploaded photo**, and you are posting it on your own Instagram feed.\n",
    "Write the **main caption** that expresses your genuine thoughts or feelings in that moment.\n",
    "\n",
    "Requirements:\n",
    "- Write **in Korean**.\n",
    "- Express what someone with the {personality} personality would *feel, think, or want to say* in that situation.\n",
    "  Make it sound like you’re writing the caption yourself, not describing someone else.\n",
    "- Reflect your MBTI’s personality traits naturally in tone and word choice:\n",
    "  - ENFP → spontaneous, expressive, energetic, curious.\n",
    "  - INFP → emotional, sincere, imaginative, introspective.\n",
    "  - INFJ → calm, insightful, meaningful, empathetic.\n",
    "  - INTJ → focused, analytical, composed, self-assured.\n",
    "  - ISTJ → responsible, organized, practical, dependable.\n",
    "  - ISFP → gentle, aesthetic, peaceful, emotionally aware.\n",
    "  - ENTP → witty, confident, clever, playful.\n",
    "  - ENTJ → ambitious, decisive, visionary, self-driven.\n",
    "  - ESFP → lively, cheerful, warm, enjoying the moment.\n",
    "  - etc.\n",
    "- The writing should feel like a real Instagram caption —\n",
    "  short (1–3 sentences), natural, and personal, as if you just posted it from your phone.\n",
    "- Do not include hashtags, emojis, or formal expressions.\n",
    "- Avoid diary-style writing or long reflections — keep it conversational and genuine.\n",
    "- Focus on how *you feel in the photo*, not on describing the photo itself.\n",
    "\"\"\"\n",
    "\n",
    "\n",
    "# === 모델 불러오기 ===\n",
    "model = genai.GenerativeModel(\"gemini-2.5-flash\")\n",
    "\n",
    "# === 게시글 생성 ===\n",
    "response = model.generate_content(\n",
    "    [prompt, image],\n",
    "    generation_config={\n",
    "        \"temperature\": 0.9,\n",
    "        \"top_p\": 0.95\n",
    "    },\n",
    "    safety_settings={\n",
    "        \"HARM_CATEGORY_HARASSMENT\": \"BLOCK_NONE\",\n",
    "        \"HARM_CATEGORY_HATE_SPEECH\": \"BLOCK_NONE\",\n",
    "    },\n",
    ")\n",
    "\n",
    "# === 결과 출력 ===\n",
    "if response and hasattr(response, \"text\"):\n",
    "    print(f\"MBTI : {personality}\\n\")\n",
    "    print(\"인스타 인플루언서 스타일 게시글:\\n\")\n",
    "    print(response.text.strip())\n",
    "else:\n",
    "    print(\"캡션을 생성하지 못했습니다.\")"
   ]
  },
  {
   "cell_type": "markdown",
   "metadata": {
    "id": "tKJXJPMcupGa"
   },
   "source": []
  }
 ],
 "metadata": {
  "accelerator": "GPU",
  "colab": {
   "authorship_tag": "ABX9TyOTGXEK42EcvwcQS55Zn6Vj",
   "gpuType": "T4",
   "mount_file_id": "1EtFIA3M6HLJh9jS8x3zcwB4o0cRHPC2P",
   "provenance": []
  },
  "kernelspec": {
   "display_name": "Python 3",
   "name": "python3"
  },
  "language_info": {
   "name": "python"
  }
 },
 "nbformat": 4,
 "nbformat_minor": 0
}
