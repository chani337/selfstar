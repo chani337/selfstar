{
 "cells": [
  {
   "cell_type": "code",
   "execution_count": null,
   "metadata": {
    "colab": {
     "base_uri": "https://localhost:8080/",
     "height": 1000
    },
    "collapsed": true,
    "executionInfo": {
     "elapsed": 27420,
     "status": "ok",
     "timestamp": 1760073726336,
     "user": {
      "displayName": "김동민",
      "userId": "13240615137656594984"
     },
     "user_tz": -540
    },
    "id": "L4suhFOTj0-X",
    "outputId": "912651fe-35fd-4fa3-97bb-308cc6264301"
   },
   "outputs": [],
   "source": [
    "%pip install --upgrade google-genai Pillow fastapi uvicorn requests"
   ]
  },
  {
   "cell_type": "code",
   "execution_count": null,
   "metadata": {},
   "outputs": [],
   "source": [
    "%pip install --upgrade google-genai Pillow ipython"
   ]
  },
  {
   "cell_type": "code",
   "execution_count": null,
   "metadata": {
    "executionInfo": {
     "elapsed": 6906,
     "status": "ok",
     "timestamp": 1760073733246,
     "user": {
      "displayName": "김동민",
      "userId": "13240615137656594984"
     },
     "user_tz": -540
    },
    "id": "laBccM-Lj1kL"
   },
   "outputs": [],
   "source": [
    "from google import genai\n",
    "from google.genai import types\n",
    "from PIL import Image\n",
    "from io import BytesIO\n",
    "import os"
   ]
  },
  {
   "cell_type": "code",
   "execution_count": null,
   "metadata": {
    "executionInfo": {
     "elapsed": 220,
     "status": "ok",
     "timestamp": 1760073765567,
     "user": {
      "displayName": "김동민",
      "userId": "13240615137656594984"
     },
     "user_tz": -540
    },
    "id": "GZVR2_xQj1nT"
   },
   "outputs": [],
   "source": [
    "# API 키 설정\n",
    "os.environ[\"GOOGLE_API_KEY\"] = \"키 설정 해주세요\"\n",
    "client = genai.Client(api_key=os.environ[\"GOOGLE_API_KEY\"])"
   ]
  },
  {
   "cell_type": "markdown",
   "metadata": {
    "id": "slwYphQcj2T7"
   },
   "source": [
    "# LLM  거치지 않고 이미지 생성"
   ]
  },
  {
   "cell_type": "code",
   "execution_count": 95,
   "metadata": {
    "colab": {
     "base_uri": "https://localhost:8080/"
    },
    "executionInfo": {
     "elapsed": 24,
     "status": "ok",
     "timestamp": 1760077850391,
     "user": {
      "displayName": "김동민",
      "userId": "13240615137656594984"
     },
     "user_tz": -540
    },
    "id": "FD-wgKozvvBE",
    "outputId": "29d00baf-de12-447b-9885-931575a055df"
   },
   "outputs": [
    {
     "name": "stdout",
     "output_type": "stream",
     "text": [
      "사용자 입력 문장: 성별 남성, 나이 34세, 특징 짧은 머리, 상꺼풀 있는 눈, 중간 코 높이,작은 입술, 살이 조금 있는 얼굴,한국인 스타일, 추가옵션 \n"
     ]
    }
   ],
   "source": [
    "#  사용자 입력\n",
    "user_input = {\n",
    "    \"성별\": \"남성\",\n",
    "    \"나이\": \"34세\",\n",
    "    \"특징\": \"짧은 머리, 상꺼풀 있는 눈, 중간 코 높이,작은 입술, 살이 조금 있는 얼굴,한국인 스타일\",\n",
    "    \"추가옵션\": \"\"\n",
    "}\n",
    "\n",
    "# 사용자 입력 기반 문자열 생성\n",
    "user_input_str = \", \".join([f\"{k} {v}\" for k, v in user_input.items()])\n",
    "print(\"사용자 입력 문장:\", user_input_str)"
   ]
  },
  {
   "cell_type": "code",
   "execution_count": 96,
   "metadata": {
    "executionInfo": {
     "elapsed": 3,
     "status": "ok",
     "timestamp": 1760077850798,
     "user": {
      "displayName": "김동민",
      "userId": "13240615137656594984"
     },
     "user_tz": -540
    },
    "id": "hPBJoAq8vu-s"
   },
   "outputs": [],
   "source": [
    "# 이미지 생성용 프롬프트\n",
    "prompt_request = (\n",
    "    f\"{user_input_str}. \"\n",
    "    \"Very high resolution, ultra-realistic, photorealistic front-facing portrait, \"\n",
    "    \"clean, plain light grey background, wearing a plain white t-shirt.\"\n",
    ")"
   ]
  },
  {
   "cell_type": "code",
   "execution_count": 97,
   "metadata": {
    "executionInfo": {
     "elapsed": 5204,
     "status": "ok",
     "timestamp": 1760077856437,
     "user": {
      "displayName": "김동민",
      "userId": "13240615137656594984"
     },
     "user_tz": -540
    },
    "id": "HiLrPYvsvu8k"
   },
   "outputs": [],
   "source": [
    "# 이미지 생성 호출\n",
    "image_response = client.models.generate_content(\n",
    "    model=\"gemini-2.5-flash-image-preview\",\n",
    "    contents=[prompt_request],\n",
    "    config=types.GenerateContentConfig(\n",
    "        response_modalities=[types.Modality.IMAGE],\n",
    "        candidate_count=1,\n",
    "    ),\n",
    ")"
   ]
  }
 ],
 "metadata": {
  "colab": {
   "authorship_tag": "ABX9TyOSBDB4F8jUIpkSFmeGZWBc",
   "provenance": []
  },
  "kernelspec": {
   "display_name": "Python 3",
   "name": "python3"
  },
  "language_info": {
   "name": "python"
  }
 },
 "nbformat": 4,
 "nbformat_minor": 0
}
