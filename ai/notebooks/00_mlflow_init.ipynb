{
 "cells": [
  {
   "cell_type": "markdown",
   "id": "7c479103",
   "metadata": {},
   "source": [
    "# MLflow Minimal Init Notebook\n",
    "\n",
    "이 노트북은 로컬 MLflow Tracking URI 설정 후 간단한 파라미터/메트릭을 기록합니다.\n",
    "\n",
    "사전 준비:\n",
    "```.bash\n",
    "pip install -r ai/requirements.txt\n",
    "```"
   ]
  },
  {
   "cell_type": "code",
   "execution_count": null,
   "id": "6ae683f7",
   "metadata": {},
   "outputs": [],
   "source": [
    "import os, time\n",
    "import mlflow\n",
    "MLFLOW_TRACKING_URI = os.getenv('MLFLOW_TRACKING_URI', './ai/mlruns')\n",
    "mlflow.set_tracking_uri(MLFLOW_TRACKING_URI)\n",
    "mlflow.set_experiment('demo_minimal')\n",
    "MLFLOW_TRACKING_URI"
   ]
  },
  {
   "cell_type": "code",
   "execution_count": null,
   "id": "271dfeaf",
   "metadata": {},
   "outputs": [],
   "source": [
    "with mlflow.start_run() as run:\n",
    "    mlflow.log_param('notebook_param', 'init')\n",
    "    for step in range(3):\n",
    "        val = 1.0 / (step + 1)\n",
    "        mlflow.log_metric('sample_metric', val, step=step)\n",
    "        time.sleep(0.1)\n",
    "    run.info.run_id"
   ]
  },
  {
   "cell_type": "markdown",
   "id": "5243579b",
   "metadata": {},
   "source": [
    "## 확인\n",
    "\n",
    "- 로컬 디렉토리: `ai/mlruns`\n",
    "- UI 실행 (선택):\n",
    "```.bash\n",
    "mlflow ui --backend-store-uri ./ai/mlruns --port 5500\n",
    "```\n",
    "브라우저: http://localhost:5500"
   ]
  }
 ],
 "metadata": {
  "language_info": {
   "name": "python"
  }
 },
 "nbformat": 4,
 "nbformat_minor": 5
}
